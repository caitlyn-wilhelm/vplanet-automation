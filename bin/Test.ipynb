{
 "cells": [
  {
   "cell_type": "code",
   "execution_count": 3,
   "metadata": {
    "collapsed": false
   },
   "outputs": [
    {
     "name": "stderr",
     "output_type": "stream",
     "text": [
      "/astro/users/bmmorris/premap/miniconda3/lib/python3.5/site-packages/matplotlib/font_manager.py:1288: UserWarning: findfont: Font family ['serif'] not found. Falling back to Bitstream Vera Sans\n",
      "  (prop.get_family(), self.defaultFamily[fontext]))\n"
     ]
    }
   ],
   "source": [
    "#!/usr/bin/env python\n",
    "\n",
    "#This makes the contour plot\n",
    "\n",
    "import subprocess as sp\n",
    "import numpy as np\n",
    "import matplotlib.pyplot as plt\n",
    "import vplot\n",
    "import os\n",
    "import sys\n",
    "\n",
    "\n",
    "#imports variables from contour_plots.sh\n",
    "dest = \"test_contour\"\n",
    "#sys.argv[1]\n",
    "sub_f = \"semi_obl_x\"\n",
    "#sys.argv[2]\n",
    "num = \"4\"\n",
    "#sys.argv[3]\n",
    "yaxis = \"S\"\n",
    "#sys.argv[4]\n",
    "vspace = \"test_contourplot\"\n",
    "#sys.argv[5]\n",
    "num = int(num)\n",
    "\n",
    "#if len(sys.argv) > 6:\n",
    "#    ymin = sys.argv[6]\n",
    "#    ymin = int(ymin)\n",
    "#    ymax = sys.argv[7]\n",
    "#    ymax = int(ymin)\n",
    "\n",
    "\n",
    "#sets directory\n",
    "os.chdir('../PreMAP2016/Project')\n",
    "#print(os.getcwd())\n",
    "#configures contourplot\n",
    "folders = sp.check_output(\"echo \" + dest + \"/\" + sub_f + \"*\", shell=True).split()\n",
    "listf = 'contour_plots/lists/list_' + dest\n",
    "\n",
    "#if the list file exists, unpack it for graphing \n",
    "if os.path.exists(listf):\n",
    "    lum0,obliq0,semi0,albedo_f,totice_m,snowball = np.loadtxt(listf, unpack = True)\n",
    "\n",
    "#if the list files does not exist, create it\n",
    "else:\n",
    "    lum0 = np.zeros(len(folders))\n",
    "    obliq0 = np.zeros(len(folders))\n",
    "    semi0 = np.zeros(len(folders))\n",
    "    albedo_f = np.zeros(len(folders))\n",
    "    totice_m = np.zeros(len(folders))\n",
    "    snowball = np.zeros(len(folders))\n",
    "\n",
    "    crap = open(listf,\"w\")\n",
    "    for i in np.arange(len(folders)):\n",
    "        f = folders[i].decode(\"utf-8\")\n",
    "        out = vplot.GetOutput(f)\n",
    "        lum0[i] = getattr(out.log.initial, 'sun').Luminosity\n",
    "        obliq0[i] = getattr(out.log.initial, 'earth').Obliquity\n",
    "        semi0[i] = getattr(out.log.initial, 'earth').SemiMajorAxis\n",
    "        albedo_f[i] = out.earth.AlbedoGlobal[-1]  # -1 gives you the last entry in an array\n",
    "        totice_m[i] = out.earth.TotIceMass[-1]\n",
    "        snowball[i] = getattr(out.log.final, 'earth').Snowball\n",
    "        crap.write(\"%f %f %f %f %f %f \\n\"%(lum0[i],obliq0[i],semi0[i],albedo_f[i],totice_m[i],snowball[i]))\n",
    "    crap.close()\n",
    "\n",
    "lum0 = np.reshape(lum0,(num,num))\n",
    "obliq0 = np.reshape(obliq0,(num,num)) * 180/np.pi\n",
    "semi0 = np.reshape(semi0,(num,num)) /1.49598e11\n",
    "albedo_f = np.reshape(albedo_f,(num,num))\n",
    "totice_m = np.reshape(totice_m,(num,num))\n",
    "snowball = np.reshape(snowball,(num,num))\n",
    "\n",
    "\n",
    "#creates contour plot\n",
    "if yaxis == \"A\":\n",
    "    \n",
    "    #plt.ylim(ymin,ymax)\n",
    "    plt.xlabel(\"Obliquity\")\n",
    "    plt.ylabel(\"Semi-Major Axis [AU]\")\n",
    "    \n",
    "    \n",
    "    c0 = plt.contourf(obliq0, semi0, albedo_f, cmap = 'Blues_r')\n",
    "    c1 = plt.contour(obliq0, semi0, totice_m, [0], colors = 'k', linewidths = 3)\n",
    "    c2 = plt.contour(obliq0, semi0, snowball, 1, colors = 'green', linestyles = 'dashed',  linewidths = 3)\n",
    "    \n",
    "    c1.collections[0].set_label(\"Total Ice Mass [kg]\")\n",
    "    c2.collections[0].set_label(\"Snowball State\")\n",
    "    plt.legend()\n",
    "\n",
    "    pl = plt.colorbar(c0, ax = None)\n",
    "    pl.set_label(\"Global Albedo\")\n",
    "    \n",
    "    \n",
    "elif yaxis == \"S\":\n",
    "\n",
    "    a_earth = 1\n",
    "    L_sun = 3.846e26 \n",
    "\n",
    "    s = ((lum0/(semi0**2))/(L_sun/(a_earth**2)))\n",
    "\n",
    "    plt.xlabel(\"Obliquity\")\n",
    "    plt.ylabel(\"Stellar Flux [W/m^2]\")\n",
    "\n",
    "    c0 = plt.contourf(obliq0, s, albedo_f, cmap = 'Blues_r')\n",
    "    c1 = plt.contour(obliq0, s, totice_m, [0], colors = 'k', linewidths = 3)\n",
    "    c2 = plt.contour(obliq0, s, snowball, 1, colors = 'green', linestyles = 'dashed',  linewidths = 3)\n",
    "    \n",
    "    c1.collections[0].set_label(\"Total Ice Mass [kg]\")\n",
    "    c2.collections[0].set_label(\"Snowball State\")\n",
    "    plt.legend()\n",
    "\n",
    "    pl = plt.colorbar(c0, ax = None)\n",
    "    pl.set_label(\"Global Albedo\")\n",
    "\n",
    "plt.savefig(\"contour_plots/images/normal/\" + dest + \".png\")\n"
   ]
  },
  {
   "cell_type": "code",
   "execution_count": 2,
   "metadata": {
    "collapsed": false
   },
   "outputs": [
    {
     "name": "stdout",
     "output_type": "stream",
     "text": [
      "/astro/users/cwilhelm/code_stuff\n"
     ]
    }
   ],
   "source": [
    "print(os.getcwd())"
   ]
  },
  {
   "cell_type": "code",
   "execution_count": 7,
   "metadata": {
    "collapsed": false
   },
   "outputs": [
    {
     "name": "stdout",
     "output_type": "stream",
     "text": [
      "test_contour/semi_obl_xa1_obl0\n"
     ]
    }
   ],
   "source": [
    "print(f)"
   ]
  },
  {
   "cell_type": "code",
   "execution_count": null,
   "metadata": {
    "collapsed": true
   },
   "outputs": [],
   "source": []
  }
 ],
 "metadata": {
  "kernelspec": {
   "display_name": "Python 3",
   "language": "python",
   "name": "python3"
  },
  "language_info": {
   "codemirror_mode": {
    "name": "ipython",
    "version": 3
   },
   "file_extension": ".py",
   "mimetype": "text/x-python",
   "name": "python",
   "nbconvert_exporter": "python",
   "pygments_lexer": "ipython3",
   "version": "3.5.2"
  }
 },
 "nbformat": 4,
 "nbformat_minor": 0
}
